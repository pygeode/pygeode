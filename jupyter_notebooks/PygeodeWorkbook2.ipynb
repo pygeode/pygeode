{
 "cells": [
  {
   "cell_type": "markdown",
   "metadata": {},
   "source": [
    "# National Climate Dynamics Workshop - Python Short Course\n",
    "\n",
    "The remainder of this short course will introduce `pygeode`, a Python package designed for accessing, processing, and visualizing gridded geophysical data. It is an alternative to `xarray` or to `IRIS`. PyGeode uses `numpy` and `matplotlib` extensively for underlying computations and plotting, and is designed around three main principles: \n",
    "\n",
    "1. Data should be represented and manipulated in geophysical coordinates\n",
    "2. Data should be 'lazy-loaded', i.e. left on disk until needed for computation\n",
    "3. Plotting defaults should be as close to publication quality as possible\n",
    "\n",
    "Full documentation about pygeode including a tutorial, gallery, and API reference, can be found at [pygeode.github.io](https://pygeode.github.io).\n",
    "\n",
    "This introduction is split into three Jupyter notebooks. Each 'workbook' consists of a set of pre-written examples to introduce some of pygeode functionality, followed by a simple example to give you the chance to work with pygeode yourself.\n",
    "\n",
    "## PyGeode Workbook #2: Visualizing a single NetCDF file\n",
    "\n",
    "The basic objects of pygeode (datasets, variables, and axes) map closely to the structure of netcdf files; PyGeode handles these naturally. In this second notebook we'll look at opening a single netcdf file and producing further customized plots."
   ]
  },
  {
   "cell_type": "code",
   "execution_count": null,
   "metadata": {},
   "outputs": [],
   "source": [
    "# C0.0 Setup matplotlib backend for inline interactive plots\n",
    "%matplotlib ipympl"
   ]
  },
  {
   "cell_type": "code",
   "execution_count": null,
   "metadata": {},
   "outputs": [],
   "source": [
    "# C0.0 Import pygeode, numpy, and matplotlib plotting packages\n",
    "import pygeode as pyg\n",
    "import numpy as np\n",
    "from matplotlib import pyplot as plt"
   ]
  },
  {
   "cell_type": "markdown",
   "metadata": {},
   "source": [
    "### 1. Opening a single NetCDF File\n",
    "\n",
    "Opening a NetCDF file is a simple operation:"
   ]
  },
  {
   "cell_type": "code",
   "execution_count": null,
   "metadata": {},
   "outputs": [],
   "source": [
    "# C1.1 Open NetCDF file\n",
    "\n",
    "# Set this path to wherever you've stored the sample data provided.\n",
    "data_pth = './data/'\n",
    "\n",
    "ds = pyg.open(data_pth + 'era5_202001_pl_uvt.nc')\n",
    "\n",
    "print(ds)"
   ]
  },
  {
   "cell_type": "markdown",
   "metadata": {},
   "source": [
    "This file includes three variables, representing one month of 6-hourly horizontal winds and temperatures from the ERA 5 reanalysis.\n",
    "\n",
    "The underlying data can be accessed directly and treated like a `numpy` array, if it is small enough to fit in memory. However, by default, PyGeode does not load this data into memory until it is actually needed, for plotting or to write to disk, for instance. This particular NetCDF file is several gigabytes on disk; the above command has read only the metadata required to setup the variables and axes and so executes fairly quickly. \n",
    "\n",
    "PyGeode recognizes CF metadata conventions, and so we see above that it has identified the time, latitude, and longitude axes and created instances of appropriate `Axis` subclasses. \n",
    "\n",
    "However, despite these conventions there are still many variants present in the wild, and not all NetCDF files will be well-formed. In this case PyGeode has not recognized the vertical `level` axis, and so it has used a catch-all subclass called a `NamedAxis`. \n",
    "\n",
    "Let's go ahead and make an initial plot."
   ]
  },
  {
   "cell_type": "code",
   "execution_count": null,
   "metadata": {},
   "outputs": [],
   "source": [
    "# C1.2 Plot the zonal mean temperature for one timestep\n",
    "\n",
    "# The following compute the zonal mean; NB this still does not load data!\n",
    "t_zm = ds.t.mean('lon')\n",
    "\n",
    "# Plotting a single time step involves accessing data, but only the data that is needed will be accessed from disk\n",
    "pyg.showvar(t_zm(time = '06:00 1 Jan 2020'))"
   ]
  },
  {
   "cell_type": "markdown",
   "metadata": {},
   "source": [
    "This produces a somewhat recognizeable plot of the zonal mean temperature field, but because `level` is not recognized as a pressure level coordinate, the plotting routine doesn't know to use it as the y-axis of the plot.\n",
    "\n",
    "We can correct this in several ways:"
   ]
  },
  {
   "cell_type": "code",
   "execution_count": null,
   "metadata": {},
   "outputs": [],
   "source": [
    "# C1.3 Replace level axis\n",
    "\n",
    "# One approach is to create an appropriate axis manually:\n",
    "pres = pyg.Pres(ds.level[:])\n",
    "\n",
    "# The following replaced the 'level' axis with our new 'pres' axis on all variables in the dataset\n",
    "dsp = ds.replace_axes(level = pres)\n",
    "print(dsp)"
   ]
  },
  {
   "cell_type": "code",
   "execution_count": null,
   "metadata": {},
   "outputs": [],
   "source": [
    "# C1.4 Use arguments to pyg.open() to tailor the dataset\n",
    "\n",
    "# In this case we'll tell pyg.open() to use a <Pres> instance for the level axis using the 'dimtypes' argument\n",
    "# We'll also use the 'namemap' keyword argument to simplify the names of the lat and lon axes\n",
    "\n",
    "ds = pyg.open(data_pth + 'era5_202001_pl_uvt.nc', \\\n",
    "              dimtypes = dict(level = pyg.Pres), \\\n",
    "              namemap = dict(latitude = 'lat', longitude = 'lon'))\n",
    "\n",
    "print(ds)"
   ]
  },
  {
   "cell_type": "markdown",
   "metadata": {},
   "source": [
    "In either case, now our plot will be better formed:"
   ]
  },
  {
   "cell_type": "code",
   "execution_count": null,
   "metadata": {},
   "outputs": [],
   "source": [
    "# C1.5 Replot the zonal mean temperature for one timestep\n",
    "\n",
    "# The following compute the zonal mean; NB this still does not load data!\n",
    "t_zm = ds.t.mean('lon')\n",
    "\n",
    "# Plotting a single time step involves accessing data, but only the data that is needed will be accessed from disk\n",
    "pyg.showvar(t_zm(time = '06:00 1 Jan 2020'))"
   ]
  },
  {
   "cell_type": "markdown",
   "metadata": {},
   "source": [
    "### 2. Further customizing plots\n",
    "\n",
    "So far we've used 'high-level' plotting functions provided by PyGeode: `showvar` and `showlines`. For a bit more control over the plots, there are a lower-level set of plotting routines.\n",
    "\n",
    "In this section we'll produce a plot of the monthly mean temperature, with the montly mean zonal wind over plotted using contour lines.\n",
    "\n",
    "We'll start by computing the time and zonal mean of the whole dataset, and to save time later on, we'll go ahead and load this data into memory."
   ]
  },
  {
   "cell_type": "code",
   "execution_count": null,
   "metadata": {},
   "outputs": [],
   "source": [
    "#C2.1 Compute time, zonal mean of all variables in dataset, load this into memory\n",
    "dsz = ds.mean('time', 'lon').load()"
   ]
  },
  {
   "cell_type": "code",
   "execution_count": null,
   "metadata": {},
   "outputs": [],
   "source": [
    "#C2.2 Create plot of temperatures using showvar\n",
    "ax = pyg.showvar(dsz.t, nl = 0)"
   ]
  },
  {
   "cell_type": "code",
   "execution_count": null,
   "metadata": {},
   "outputs": [],
   "source": [
    "print(ax.axes)"
   ]
  },
  {
   "cell_type": "code",
   "execution_count": null,
   "metadata": {},
   "outputs": [],
   "source": [
    "#C2.3 Add zonal wind plot\n",
    "\n",
    "cu = pyg.cldict(10., colors = 'k', linewidths = 2.)\n",
    "\n",
    "fig = plt.figure()\n",
    "\n",
    "plt.ioff()\n",
    "\n",
    "ax = pyg.showvar(dsz.t, nl = 0)\n",
    "\n",
    "pyg.vcontour(dsz.u, axes = ax.axes[0], **cu)\n",
    "ax.axes[0].clabel(ax.axes[0].plots[-1], fmt = '%d m/s')\n",
    "\n",
    "ax.axes[0].setp(title = 'Zonal mean T, U, January 2020')\n",
    "ax.axes[1].setp(title = '[K]')\n",
    "ax.render(fig=fig)\n",
    "plt.ion()\n",
    "\n",
    "plt.show()"
   ]
  },
  {
   "cell_type": "markdown",
   "metadata": {},
   "source": [
    "### 3. Map Projections\n",
    "\n",
    "Finally, we'll briefly describe how to use different projections.\n",
    "\n",
    "The simplest approach is as follows:"
   ]
  },
  {
   "cell_type": "code",
   "execution_count": null,
   "metadata": {},
   "outputs": [],
   "source": [
    "#C3.1 Plot zonal wind in a Robinson projection\n",
    "prj_args = dict(central_longitude = -20)\n",
    "pyg.showvar(ds.u(time = '06:00 1 Jan 2020', pres = 500), \\\n",
    "            map = dict(projection = 'Robinson', prj_args = prj_args))"
   ]
  },
  {
   "cell_type": "markdown",
   "metadata": {},
   "source": [
    "This works well if the default parameters for the projection are what you're looking for, or if you don't need to do too much customization. \n",
    "\n",
    "Another approach involves creating the map container first:"
   ]
  },
  {
   "cell_type": "code",
   "execution_count": null,
   "metadata": {},
   "outputs": [],
   "source": [
    "#C3.2 Plot wind quivers on regional LambertConformal projection\n",
    "import cartopy.crs as ccrs\n",
    "\n",
    "fig = plt.figure()\n",
    "plt.ioff()\n",
    "\n",
    "# Create axes wrapper with projection details\n",
    "ax = pyg.plot.CartopyAxes(projection = 'LambertConformal', \\\n",
    "                          prj_args = dict(central_longitude=0., central_latitude = 39.))\n",
    "\n",
    "def sel(var): return var(time = '00:00 1 Jan 2020', pres = 700, i_lon = (0, -1, 2), i_lat = (0, -1, 2))\n",
    "\n",
    "# Plot wind quivers\n",
    "pyg.vquiver(sel(ds.u), sel(ds.v), axes=ax, width = 0.005, scale = 300, mapdecor = dict(gridlines=False))\n",
    "\n",
    "\n",
    "# Set lat/lon grid\n",
    "ax.gridlines(xlocs = range(-60, 60, 20), ylocs = range(0, 81, 20))\n",
    "\n",
    "# Set spatial extent to region over North America (lon0, lon1, lat0, lat1)\n",
    "ax.set_extent([-30, 30, 20, 75], crs = ccrs.PlateCarree())\n",
    "ax.render(fig=fig)\n",
    "plt.ion()\n",
    "\n",
    "plt.show()"
   ]
  },
  {
   "cell_type": "markdown",
   "metadata": {},
   "source": [
    "## Exercise:\n",
    "\n",
    "Make a NP stereographic plot showing the time-mean winds at 10 hPa using quivers over the Arctic. Overplot contours of wind speed."
   ]
  }
 ],
 "metadata": {
  "kernelspec": {
   "display_name": "Python 3 (ipykernel)",
   "language": "python",
   "name": "python3"
  },
  "language_info": {
   "codemirror_mode": {
    "name": "ipython",
    "version": 3
   },
   "file_extension": ".py",
   "mimetype": "text/x-python",
   "name": "python",
   "nbconvert_exporter": "python",
   "pygments_lexer": "ipython3",
   "version": "3.11.5"
  }
 },
 "nbformat": 4,
 "nbformat_minor": 4
}
