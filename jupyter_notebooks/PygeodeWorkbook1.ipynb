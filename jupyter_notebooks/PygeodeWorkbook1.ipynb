{
 "cells": [
  {
   "cell_type": "markdown",
   "metadata": {},
   "source": [
    "# National Climate Dynamics Workshop - Python Short Course\n",
    "\n",
    "The remainder of this short course will introduce `pygeode`, a Python package designed for accessing, processing, and visualizing gridded geophysical data. It is an alternative to `xarray` or to `IRIS`. PyGeode uses `numpy` and `matplotlib` extensively for underlying computations and plotting, and is designed around three main principles: \n",
    "\n",
    "1. Data should be represented and manipulated in geophysical coordinates, not in array indices\n",
    "2. Data should be 'lazy-loaded', i.e. left on disk until needed for computation, and then accessed in a memory-friendly way\n",
    "3. Plotting defaults should be as close to publication quality as possible\n",
    "\n",
    "Full documentation about pygeode including a tutorial, gallery, and API reference, can be found at [pygeode.github.io](https://pygeode.github.io).\n",
    "\n",
    "This introduction is split into three Jupyter notebooks. Each 'workbook' consists of a set of pre-written examples to introduce some of pygeode functionality, followed by a simple example to give you the chance to work with pygeode yourself.\n",
    "\n",
    "## PyGeode Workbook #1: The basic nuts and bolts\n",
    "\n",
    "This first workbook introduces pygeode dataset (`Dataset`), variable (`Var`), and axis (`Axis`) objects, and demonstrates simple plotting."
   ]
  },
  {
   "cell_type": "code",
   "execution_count": null,
   "metadata": {},
   "outputs": [],
   "source": [
    "# C0.2 Setup matplotlib backend for inline interactive plots\n",
    "%matplotlib ipympl"
   ]
  },
  {
   "cell_type": "code",
   "execution_count": null,
   "metadata": {},
   "outputs": [],
   "source": [
    "# C0.1 Import pygeode, numpy, and matplotlib plotting packages\n",
    "import pygeode as pyg\n",
    "import numpy as np\n",
    "from matplotlib import pyplot as plt"
   ]
  },
  {
   "cell_type": "markdown",
   "metadata": {},
   "source": [
    "### 1. A First Plot\n",
    "\n",
    "To get us started, we'll look first at making a plot with an example dataset, built in to the 'tutorial' module within pygeode."
   ]
  },
  {
   "cell_type": "code",
   "execution_count": null,
   "metadata": {},
   "outputs": [],
   "source": [
    "# C1.1 Import an example dataset and examine it\n",
    "from pygeode.tutorial import t1\n",
    "\n",
    "print(t1)"
   ]
  },
  {
   "cell_type": "markdown",
   "metadata": {},
   "source": [
    "This object introduces the three main objects that pygeode provides. `t1` is a dataset; a collection object that can contain variables and axes. In this case it contains a single variable `Temp`, representing temperature data on a coarse lat-lon grid (31 by 60, or 3$^\\circ$ by 6$^\\circ$). The dimensions of this grid are described by the two axes, named `lat` and `lon`. These are recognized explicitly by pygeode as representing latitudes and longitudes. \n",
    "\n",
    "We can now look at this variable:"
   ]
  },
  {
   "cell_type": "code",
   "execution_count": null,
   "metadata": {},
   "outputs": [],
   "source": [
    "# C1.4 Plot synthetic temperature field\n",
    "pyg.showvar(t1.Temp)"
   ]
  },
  {
   "cell_type": "markdown",
   "metadata": {},
   "source": [
    "Pygeode recognizes that this variable has two dimensions that correspond to a geographical grid. The plot is produced using `matplotlib`, and recognizing that the data is geographical, pygeode uses `cartopy` to overlay a map and labels axes accordingly.\n",
    "\n",
    "The choice of contour levels and color map are also chosen automatically in a way that is different from `matplotlib` defaults. Contour levels are chosen to be round numbers; for instance in this case, each shaded contour is 2 K with colorbar tick labels every 10 K that correspond to changes in hue in the colormap. This produces high contrast at specific contour levels, making it much easier to quantify the underlying data from this visualization. \n",
    "\n",
    "The colormap is also automatically chosen to be sequential (as in this case) or divergent, depending on the data. For instance, if we convert to degrees Celsius:"
   ]
  },
  {
   "cell_type": "code",
   "execution_count": null,
   "metadata": {},
   "outputs": [],
   "source": [
    "# C1.5 Demonstrate divergent color maps\n",
    "\n",
    "# Pygeode variables support basic arithmetical operations \n",
    "T = t1.Temp - 273.15\n",
    "T.units = r'$^\\circ$C'\n",
    "\n",
    "pyg.showvar(T)"
   ]
  },
  {
   "cell_type": "markdown",
   "metadata": {},
   "source": [
    "We'll look further at how to customize these choices later in these workbooks."
   ]
  },
  {
   "cell_type": "markdown",
   "metadata": {},
   "source": [
    "### 2. Creating PyGeode variables and axes\n",
    "\n",
    "We'll see several different methods for creating your own PyGeode variables. As a first example, we'll look at reading data in from a ASCII file in csv format (comma-separated values). We'll use `numpy.loadtxt()` to read timeseries data into numpy arrays, then use them to create PyGeode variables."
   ]
  },
  {
   "cell_type": "code",
   "execution_count": null,
   "metadata": {},
   "outputs": [],
   "source": [
    "#C2.1 Read in time series of temperature data from sample csv file\n",
    "\n",
    "# Set this path to wherever you've stored the sample data provided.\n",
    "data_pth = './data/'\n",
    "\n",
    "# The following two lines each read a single column of data.\n",
    "timestamp   = np.genfromtxt(data_pth + \"weather-raw.csv\", delimiter=\",\", skip_header=1, usecols=(0), dtype='str')\n",
    "temperature = np.genfromtxt(data_pth + \"weather-raw.csv\", delimiter=\",\", skip_header=1, usecols=(1))\n",
    "\n",
    "# Temperatures are stored in degrees Celsius * 10; the following converts to degrees C\n",
    "temperature = temperature.astype('d') / 10.\n",
    "\n",
    "# Examine the first timestamp\n",
    "print(timestamp[0])"
   ]
  },
  {
   "cell_type": "markdown",
   "metadata": {},
   "source": [
    "We now have the temperature time series data in the form of numpy arrays. In order to create a PyGeode variable, we need to first create an axis object that represents the calendar time. There various ways to do this, but one convenient way in this context is to first extract the calendar year, month, day, etc. into independent numpy arrays ..."
   ]
  },
  {
   "cell_type": "code",
   "execution_count": null,
   "metadata": {},
   "outputs": [],
   "source": [
    "#C2.2 Split up timestamp into components \n",
    "yrs = np.array([int(t[  : 4]) for t in timestamp])\n",
    "mns = np.array([int(t[ 5: 7]) for t in timestamp])\n",
    "dys = np.array([int(t[ 8:10]) for t in timestamp])\n",
    "hrs = np.array([int(t[11:13]) for t in timestamp])\n",
    "mts = np.array([int(t[14:16]) for t in timestamp])\n",
    "scs = np.array([int(t[17:19]) for t in timestamp])"
   ]
  },
  {
   "cell_type": "markdown",
   "metadata": {},
   "source": [
    "... and then use this to create a PyGeode time axis."
   ]
  },
  {
   "cell_type": "code",
   "execution_count": null,
   "metadata": {},
   "outputs": [],
   "source": [
    "#C2.3 Create PyGeode time axis\n",
    "time2 = pyg.StandardTime(year=yrs, month=mns, day=dys, hour=hrs, minute=mts, second=scs, units='days')"
   ]
  },
  {
   "cell_type": "markdown",
   "metadata": {},
   "source": [
    "#### Calendars\n",
    "\n",
    "PyGeode recognizes several calendars, including the standard Gregorian calendar in addition to 365-day and 360-day calendars. \n",
    "\n",
    "Here we've created a standard calendar; the data covers a time period from June 1995 to June 2020, including over 400,000 individual observations.\n",
    "\n",
    "Internally, PyGeode represents the time axis as an offset from a fixed start date; the offset can be defined in different units, and the start date is arbitrary. The second print statement uses standart python slicing notation to access the first five elements of the axis, which represent days since 15:00 Jun 30 1995."
   ]
  },
  {
   "cell_type": "code",
   "execution_count": null,
   "metadata": {},
   "outputs": [],
   "source": [
    "#C2.4 Print readable representation of time axis\n",
    "print(time2)"
   ]
  },
  {
   "cell_type": "code",
   "execution_count": null,
   "metadata": {},
   "outputs": [],
   "source": [
    "#C2.5 Print first five elements\n",
    "print(time2[:5])"
   ]
  },
  {
   "cell_type": "markdown",
   "metadata": {},
   "source": [
    "#### Creating a variable\n",
    "We can now create a variable representing the temperature time series. To do this we need to provide a list of axes that defines the grid, an array of values with the appropriate shape, and a name:"
   ]
  },
  {
   "cell_type": "code",
   "execution_count": null,
   "metadata": {},
   "outputs": [],
   "source": [
    "#C2.6 Create PyGeode variable\n",
    "temp = pyg.Var((time2,), values = temperature, name = 'Temperature')\n",
    "\n",
    "print(temp)"
   ]
  },
  {
   "cell_type": "markdown",
   "metadata": {},
   "source": [
    "Now that we have our time series as a PyGeode variable, we can use a range of different tools for subsetting and plotting the temperature data. In this case, as a one-dimensional dataset, `showvar()` will create a line plot instead of a contour plot. Labeling of the time axis is handled automatically, based on the range of time visible in the plot."
   ]
  },
  {
   "cell_type": "code",
   "execution_count": null,
   "metadata": {},
   "outputs": [],
   "source": [
    "#C2.7 Plot subset of time series\n",
    "pyg.showvar(temp(time = ('1 Mar 2000', '21 Sep 2010')))"
   ]
  },
  {
   "cell_type": "markdown",
   "metadata": {},
   "source": [
    "### 3. Manipulating Variables and Axes\n",
    "\n",
    "Because PyGeode is aware of the geophysical meaning of different dimensions, it can make sensible decisions about how to broadcast variables defined on different grids. As an example, we'll use PyGeode to create one of the analytical horizontal wind fields used to test tracer transport schemes in dynamical cores described by Nair and Lauritzen (2010) [doi:10.1016/j.jcp.2010.08.014](http://dx.doi.org/10.1016/j.jcp.2010.08.014).\n",
    "\n",
    "We'll first define a horizontal stream function\n",
    "\n",
    "$$\\psi = k \\sin(\\lambda - ct)^2 \\cos(\\phi)^2 \\cos(\\pi t / T)$$\n",
    "\n",
    "where $k$, $c$, and $T$ are constants, $\\lambda$ is longitude, $\\phi$ is latitude, and $t$ is time. The resulting streamfunction is defined on a three dimensional grid (lat, lon, time). \n",
    "\n",
    "Generating this field in PyGeode is straightforward. We'll start by using some helper functions that PyGeode provides to create relevant `Axis` objects."
   ]
  },
  {
   "cell_type": "code",
   "execution_count": null,
   "metadata": {},
   "outputs": [],
   "source": [
    "#C3.1 Create axes which will define the grid\n",
    "\n",
    "# Create regularly-spaced longitude and latitude axes that span the globe.\n",
    "lon = pyg.regularlon(360)\n",
    "lat = pyg.regularlat(180)\n",
    "\n",
    "# Create a timeaxis 200 days long, starting 1 Jan 2020.\n",
    "time = pyg.modeltime365n('1 Jan 2020', 200)"
   ]
  },
  {
   "cell_type": "markdown",
   "metadata": {},
   "source": [
    "Creating the streamfunction involves a simple translation of the formula:"
   ]
  },
  {
   "cell_type": "code",
   "execution_count": null,
   "metadata": {},
   "outputs": [],
   "source": [
    "#C3.2 Compute streamfunction\n",
    "\n",
    "# Define constants\n",
    "a = 6371e3   # Radius of the Earth in m\n",
    "T = 50       # Timescale in days\n",
    "c = 360. / T # Translational velocity in degrees longitude per day\n",
    "k = 10 * a   # Overall flow rate in metres squared per second\n",
    "\n",
    "# Basic arithmetical operations apply as expected; Pygeode provides wrappers to many numpy functions\n",
    "psi = k * pyg.sind((lon - c*time)/2)**2 * pyg.cosd(lat)**2 * pyg.cos(np.pi * time / T)\n",
    "\n",
    "print(psi)"
   ]
  },
  {
   "cell_type": "markdown",
   "metadata": {},
   "source": [
    "Because PyGeode knows that `time`, `lat`, and `lon` represent different geophysical axes, it will automatically broadcast the values appropriately, computing external products where necessary. The result is a three-dimensional numerical grid.\n",
    "\n",
    "The resulting variable has an awkward name, and might not have the axes in the appropriate order:"
   ]
  },
  {
   "cell_type": "code",
   "execution_count": null,
   "metadata": {},
   "outputs": [],
   "source": [
    "#C3.3 Transpose and rename variable\n",
    "psi = psi.transpose('time', 'lat', 'lon')\n",
    "psi = psi.rename('psi')\n",
    "print(psi)"
   ]
  },
  {
   "cell_type": "markdown",
   "metadata": {},
   "source": [
    "Pygeode also provides more advanced numerical operations; for instance one can take numerical derivatives (using a centered difference approximation by default). Here we can use this to compute the horizontal wind field from the stream function.\n",
    "\n",
    "$$ u = -\\dfrac{1}{a} \\partial_\\phi \\psi $$\n",
    "$$ v = \\dfrac{1}{a \\cos \\phi} \\partial_\\lambda \\psi $$"
   ]
  },
  {
   "cell_type": "code",
   "execution_count": null,
   "metadata": {},
   "outputs": [],
   "source": [
    "#C3.5 Compute horizontal winds using a numerical derivative\n",
    "\n",
    "# Pygeode uses the axis coordinate values to define the derivative\n",
    "# Because latitude is defined in degrees, not in radians, we need to account for an additional factor of pi/180.\n",
    "u = -psi.deriv('lat') * 180. / (np.pi * a)\n",
    "\n",
    "# Another approach is to provide an alternative coordinate value to use\n",
    "# In this case we can define an 'x' coordinate that takes into account the shortening of parallels as you approach the poles\n",
    "x = a * psi.lon * np.pi / 180. * pyg.cosd(psi.lat) + 0*psi.time\n",
    "v = psi.deriv('lon', dx = x)\n",
    "\n",
    "# Finally we can rename these variables\n",
    "u = u.rename('u')\n",
    "v = v.rename('v')\n",
    "print(u)\n",
    "print(v)"
   ]
  },
  {
   "cell_type": "markdown",
   "metadata": {},
   "source": [
    "### 4. Basics of customizing plots\n",
    "\n",
    "To finish this first workbook, we'll look at some of the basics of customizing plots."
   ]
  },
  {
   "cell_type": "code",
   "execution_count": null,
   "metadata": {},
   "outputs": [],
   "source": [
    "#4.1 Overplot several time series, modify labels\n",
    "\n",
    "#Make a figure\n",
    "fig = plt.figure()\n",
    "\n",
    "# Turn off 'interactive mode' to build plot\n",
    "plt.ioff()\n",
    "\n",
    "# Define helper function\n",
    "def sel(v): return v(lat = 45, lon = 0)\n",
    "\n",
    "# Compute wind speed\n",
    "ws = pyg.sqrt(u**2 + v**2).rename('ws')\n",
    "\n",
    "# Show u, v, and wind speed at fixed point\n",
    "ax = pyg.showlines([sel(u), sel(v), sel(ws)])\n",
    "\n",
    "# Change title, y axis properties\n",
    "ax.setp(title = r'Horizontal winds, 45$^\\circ$ N, 0$^\\circ$ W', ylim = (-8, 8), ylabel='m/s')\n",
    "ax.setp_yaxis(major_locator = plt.MultipleLocator(3))\n",
    "\n",
    "#Put the plot in the figure\n",
    "ax.render(fig=fig)\n",
    "\n",
    "# Turn on interactive mode\n",
    "plt.ion()\n",
    "\n",
    "#Show the plot\n",
    "plt.show()"
   ]
  },
  {
   "cell_type": "code",
   "execution_count": null,
   "metadata": {},
   "outputs": [],
   "source": [
    "#4.2 Set contour intervals and use a different color bar\n",
    "\n",
    "fig = plt.figure() #Make a figure\n",
    "\n",
    "plt.ioff()  # Again, turn off interactive mode\n",
    "\n",
    "# Helper function to return the 15th timestep\n",
    "def sel(var): return var(i_time = 15) \n",
    "\n",
    "# PyGeode provides helper functions to produce arguments that configure contour plots\n",
    "\n",
    "# Filled contours\n",
    "cf = pyg.clfdict(cdelt = 3, ndiv = 2, nf = 6, nl = 0, style = 'div', cmap = plt.cm.viridis)\n",
    "\n",
    "# Contour lines\n",
    "cl = pyg.cldict(cdelt = 1, nozero = True)\n",
    "\n",
    "# Create two plots\n",
    "ax1 = pyg.showvar(sel(u), **cf)\n",
    "ax2 = pyg.showvar(sel(u), **cl)\n",
    "\n",
    "# This creates a grid out of individual plots\n",
    "ax = pyg.plot.grid([[ax1], [ax2]])\n",
    "\n",
    "#Put the plot in the figure\n",
    "ax.render(fig=fig)\n",
    "\n",
    "plt.ion()\n",
    "\n",
    "#Show the plot\n",
    "plt.show()"
   ]
  },
  {
   "cell_type": "markdown",
   "metadata": {},
   "source": [
    "## Exercises\n",
    "\n",
    "Produce and customize your own plot. Two possible options:\n",
    "1. Read in other fields from the csv file we explored in section 2 and explore the time series\n",
    "2. Customize contour intervals and colorbar used above"
   ]
  },
  {
   "cell_type": "code",
   "execution_count": null,
   "metadata": {},
   "outputs": [],
   "source": []
  }
 ],
 "metadata": {
  "kernelspec": {
   "display_name": "Python 3 (ipykernel)",
   "language": "python",
   "name": "python3"
  },
  "language_info": {
   "codemirror_mode": {
    "name": "ipython",
    "version": 3
   },
   "file_extension": ".py",
   "mimetype": "text/x-python",
   "name": "python",
   "nbconvert_exporter": "python",
   "pygments_lexer": "ipython3",
   "version": "3.11.5"
  }
 },
 "nbformat": 4,
 "nbformat_minor": 4
}
